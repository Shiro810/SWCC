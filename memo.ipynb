{
 "cells": [
  {
   "cell_type": "code",
   "execution_count": 2,
   "metadata": {},
   "outputs": [],
   "source": [
    "import pandas as pd\n",
    "import numpy as np"
   ]
  },
  {
   "cell_type": "code",
   "execution_count": 9,
   "metadata": {},
   "outputs": [
    {
     "name": "stdout",
     "output_type": "stream",
     "text": [
      "      49   48\n",
      "0   1118   12\n",
      "1   3120   91\n",
      "2   4807  165\n",
      "3   5993  202\n",
      "4   6773  247\n",
      "5   7034  251\n",
      "6   7304  251\n",
      "7   7097  272\n",
      "8   6809  274\n",
      "9   6312  279\n",
      "10  5864  249\n",
      "11  5442  251\n",
      "12  4994  229\n",
      "13  4328  163\n",
      "14  3899  164\n",
      "15  3364  156\n",
      "16  2980  149\n",
      "17  2625  131\n",
      "18  2313  108\n",
      "19  1997  106\n",
      "20  1582   85\n",
      "21  1483   69\n",
      "22  1180   71\n",
      "23   995   61\n",
      "24   860   60\n",
      "25   768   37\n",
      "26   637   28\n",
      "27   507   38\n",
      "28   447   26\n",
      "29   384   21\n",
      "30   293   20\n",
      "31   272   12\n",
      "32   222   19\n",
      "33   178   10\n",
      "34   142    8\n",
      "35   136    5\n",
      "36   107   10\n",
      "37    97    5\n",
      "38    62    3\n",
      "39    62    2\n",
      "40    60    2\n",
      "41    53    3\n",
      "42    29    4\n",
      "43    29    1\n",
      "44    28    1\n",
      "45    25    2\n",
      "46    25    1\n",
      "47    12    2\n",
      "48    20    1\n",
      "49    56    8\n"
     ]
    }
   ],
   "source": [
    "df=pd.read_csv('C:/Users/nobun/Dropbox/研究/00_卒論/Python_code/loose/vtxt_loose_dry/cv.txt',header=None,engine='python',delim_whitespace=True)\n",
    "vji0=df.iloc[0:,49]\n",
    "vji1=df.iloc[0:,48]\n",
    "#print(vji)\n",
    "sumvji=vji.sum(axis=0)\n",
    "#df\n",
    "#sum=df.sum(axis=1)\n",
    "#print(sumvji)\n",
    "vji_percent=vji/sumvji\n",
    "#print(vji_percent)\n",
    "vji_y1=vji+10.0\n",
    "#print(vji_y1)\n",
    "#print(len(df))\n",
    "v=pd.concat([vji0,vji1], axis=1)\n",
    "print(v)"
   ]
  },
  {
   "cell_type": "code",
   "execution_count": 29,
   "metadata": {},
   "outputs": [
    {
     "name": "stdout",
     "output_type": "stream",
     "text": [
      "[ 1  3  5  7  9 11 13 15 17 19 21 23 25 27 29 31 33 35 37 39 41 43 45 47\n",
      " 49 51 53 55 57 59 61 63 65 67 69 71 73 75 77 79 81 83 85 87 89 91 93 95\n",
      " 97 99]\n"
     ]
    }
   ],
   "source": [
    "x = np.arange(1,100,2)\n",
    "print(x)"
   ]
  },
  {
   "cell_type": "code",
   "execution_count": null,
   "metadata": {},
   "outputs": [],
   "source": []
  }
 ],
 "metadata": {
  "kernelspec": {
   "display_name": "Python 3",
   "language": "python",
   "name": "python3"
  },
  "language_info": {
   "codemirror_mode": {
    "name": "ipython",
    "version": 3
   },
   "file_extension": ".py",
   "mimetype": "text/x-python",
   "name": "python",
   "nbconvert_exporter": "python",
   "pygments_lexer": "ipython3",
   "version": "3.8.8"
  }
 },
 "nbformat": 4,
 "nbformat_minor": 4
}
