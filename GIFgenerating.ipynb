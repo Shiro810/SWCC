{
 "cells": [
  {
   "cell_type": "code",
   "execution_count": 32,
   "metadata": {},
   "outputs": [],
   "source": [
    "import os\n",
    "from PIL import Image\n",
    "import glob\n",
    "#path=os.getcwd()\n",
    "#print(path)"
   ]
  },
  {
   "cell_type": "code",
   "execution_count": 34,
   "metadata": {},
   "outputs": [],
   "source": [
    "path=\"C:/Users/Owner/Dropbox/研究/00_卒論/Python_code\"\n",
    "\n",
    "#inputfolderpath=path+'/graph_v_%_loose'\n",
    "#outputfolderpath=path+'/graph_v_%_loose/gif_graph_v_%_loose/'\n",
    "inputfolderpath=path+'/dense/graph_Sr=100_dense_dry'\n",
    "outputfolderpath=path+'/dense/graph_Sr=100_dense_dry/gif_graph_Sr=100_dense_dry/'\n",
    "#inputfolderpath=path+'/dense/graph_dense_dry_%'\n",
    "#outputfolderpath=path+'/dense/graph_dense_dry_%/gif_graph_dense_dry_%/'\n",
    "os.chdir(inputfolderpath)\n",
    "os.makedirs(outputfolderpath,exist_ok=True)"
   ]
  },
  {
   "cell_type": "code",
   "execution_count": 37,
   "metadata": {},
   "outputs": [
    {
     "name": "stdout",
     "output_type": "stream",
     "text": [
      "['.\\\\00Sr=100_dense_dry0-200.png', '.\\\\01Sr=100_dense_dry200-400.png', '.\\\\02Sr=100_dense_dry400-600.png', '.\\\\03Sr=100_dense_dry600-800.png', '.\\\\04Sr=100_dense_dry800-1000.png', '.\\\\05Sr=100_dense_dry1000-1200.png', '.\\\\06Sr=100_dense_dry1200-1400.png', '.\\\\07Sr=100_dense_dry1400-1600.png', '.\\\\08Sr=100_dense_dry1600-1800.png', '.\\\\09Sr=100_dense_dry1800-2000.png', '.\\\\10Sr=100_dense_dry2000-2200.png', '.\\\\11Sr=100_dense_dry2200-2400.png', '.\\\\12Sr=100_dense_dry2400-2600.png', '.\\\\13Sr=100_dense_dry2600-2800.png', '.\\\\14Sr=100_dense_dry2800-3000.png', '.\\\\15Sr=100_dense_dry3000-3200.png', '.\\\\16Sr=100_dense_dry3200-3400.png', '.\\\\17Sr=100_dense_dry3400-3600.png', '.\\\\18Sr=100_dense_dry3600-3800.png', '.\\\\19Sr=100_dense_dry3800-4000.png', '.\\\\20Sr=100_dense_dry4000-4200.png', '.\\\\21Sr=100_dense_dry4200-4400.png', '.\\\\22Sr=100_dense_dry4400-4600.png', '.\\\\23Sr=100_dense_dry4600-4800.png', '.\\\\24Sr=100_dense_dry4800-5000.png', '.\\\\25Sr=100_dense_dry5000-5200.png', '.\\\\26Sr=100_dense_dry5200-5400.png', '.\\\\27Sr=100_dense_dry5400-5600.png', '.\\\\28Sr=100_dense_dry5600-5800.png', '.\\\\29Sr=100_dense_dry5800-6000.png']\n"
     ]
    }
   ],
   "source": [
    "files = glob.glob('./*.png')\n",
    "print(files)"
   ]
  },
  {
   "cell_type": "code",
   "execution_count": 38,
   "metadata": {},
   "outputs": [],
   "source": [
    "images = list(map(lambda file : Image.open(file) , files))\n",
    "#filename=outfile1=outputfolderpath+'v_loose_%.gif'\n",
    "#filename=outfile1=outputfolderpath+'v_dense_%_6000.gif'\n",
    "filename=outfile1=outputfolderpath+'dense_dry_saturated_pore_6000.gif'\n",
    "images[0].save(filename, save_all = True , append_images = images[1:] , duration = 400 , loop = 0)"
   ]
  },
  {
   "cell_type": "code",
   "execution_count": null,
   "metadata": {},
   "outputs": [],
   "source": []
  }
 ],
 "metadata": {
  "kernelspec": {
   "display_name": "Python 3",
   "language": "python",
   "name": "python3"
  },
  "language_info": {
   "codemirror_mode": {
    "name": "ipython",
    "version": 3
   },
   "file_extension": ".py",
   "mimetype": "text/x-python",
   "name": "python",
   "nbconvert_exporter": "python",
   "pygments_lexer": "ipython3",
   "version": "3.8.8"
  }
 },
 "nbformat": 4,
 "nbformat_minor": 4
}
