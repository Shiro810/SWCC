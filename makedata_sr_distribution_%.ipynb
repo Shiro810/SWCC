{
 "cells": [
  {
   "cell_type": "code",
   "execution_count": 44,
   "metadata": {},
   "outputs": [],
   "source": [
    "import os\n",
    "import glob\n",
    "import numpy as np\n",
    "import pandas as pd\n",
    "\n",
    "pd.set_option('display.max_columns', None)\n",
    "pd.set_option('display.max_rows', None)"
   ]
  },
  {
   "cell_type": "code",
   "execution_count": 65,
   "metadata": {},
   "outputs": [],
   "source": [
    "path='C:/Users/nobun/Dropbox/研究/00_卒論/Python_code'\n",
    "#inputfolderpath=path+'/vtxt'\n",
    "#outputfolderpath1=path+'/out_dist_loose_vtxt/'\n",
    "#outputfolderpath2=path+'/out_dist_loose_sum_vtxt/'\n",
    "#outputfolderpath3=path+'/out_dist_loose_%_vtxt/'\n",
    "inputfolderpath=path+'/dense/vtxt_dense_dry'\n",
    "outputfolderpath1=path+'/dense/dist_dense_dry_vtxt/'\n",
    "outputfolderpath2=path+'/dense/dist_dense_dry_sum_vtxt/'\n",
    "outputfolderpath3=path+'/dense/dist_dense_dry_%_vtxt/'\n",
    "outputfolderpath4=path+'/dense/Sr=100_dense_dry_%/'\n",
    "os.chdir(inputfolderpath)\n",
    "os.makedirs(outputfolderpath1,exist_ok=True)\n",
    "os.makedirs(outputfolderpath2,exist_ok=True)\n",
    "os.makedirs(outputfolderpath3,exist_ok=True)\n",
    "os.makedirs(outputfolderpath4,exist_ok=True)"
   ]
  },
  {
   "cell_type": "code",
   "execution_count": 66,
   "metadata": {},
   "outputs": [
    {
     "name": "stdout",
     "output_type": "stream",
     "text": [
      "['.\\\\av.txt', '.\\\\bv.txt', '.\\\\cv.txt', '.\\\\dv.txt', '.\\\\ev.txt', '.\\\\fv.txt', '.\\\\gv.txt']\n"
     ]
    }
   ],
   "source": [
    "path_list = glob.glob(\"./*.txt\")\n",
    "print(path_list)"
   ]
  },
  {
   "cell_type": "code",
   "execution_count": 67,
   "metadata": {},
   "outputs": [],
   "source": [
    "v_Sr100= pd.DataFrame()\n",
    "v_Sr100_T= pd.DataFrame()\n",
    "for j in range(50):\n",
    "    numj=str(j)\n",
    "    v= pd.DataFrame()\n",
    "    v_percent= pd.DataFrame()\n",
    "    \n",
    "    v_Sr= pd.DataFrame()\n",
    "    \n",
    "    for i in range(len(path_list)):\n",
    "        numi=str(i)\n",
    "        file=pd.read_csv(glob.glob(\"./*.txt\")[i], delim_whitespace=True, engine='python',header=None,dtype=int)\n",
    "        \n",
    "        vji=file.iloc[j]\n",
    "        sumvji=vji.sum(axis=0)\n",
    "        #print(sumvji)\n",
    "        if sumvji!=0:\n",
    "            vji_percent=vji/sumvji\n",
    "        else:\n",
    "            vji_percent=vji/1\n",
    "        \n",
    "        vji_percent=vji_percent*100\n",
    "        #print(vji_percent)\n",
    "        v = v.append(vji, ignore_index=True)\n",
    "        v_percent=v_percent.append(vji_percent, ignore_index=True)\n",
    "        \n",
    "    #print(v)\n",
    "    #print(v_percent)\n",
    "    #v=v.astype(int)\n",
    "    sum_v_percent=v_percent.sum(axis=1)\n",
    "    #print(sum_v_percent)\n",
    "    sumv=v.sum(axis=1)\n",
    "    \n",
    "    v_Sr_T=v_percent.iloc[0:,49].T\n",
    "    #print(v_Sr)\n",
    "    \n",
    "    v_Sr100_T=v_Sr100_T.append(v_Sr_T)\n",
    "    outfile1=outputfolderpath1+'v_dense_dry_'+numj.zfill(2)+'.txt'\n",
    "    outfile2=outputfolderpath2+'v_dense_dry_sum'+numj.zfill(2)+'.txt'\n",
    "    outfile3=outputfolderpath3+'v_dense_dry_%_'+numj.zfill(2)+'.txt'\n",
    "    outfile4=outputfolderpath4+'Sr=100_dense_dry'+'.txt'\n",
    "    #v.to_csv(outfile1, index=False, sep='\\t')\n",
    "    #sumv.to_csv(outfile2, index=False, sep='\\t')\n",
    "    #v_percent.to_csv(outfile3, index=False, sep='\\t')\n",
    "#v.dtypes\n",
    "v_Sr100_T.index = np.arange(0,50,1)\n",
    "v_Sr100=v_Sr100_T.T\n",
    "#print(v_Sr100)\n",
    "v_Sr100.to_csv(outfile4, index=False, sep='\\t')"
   ]
  },
  {
   "cell_type": "code",
   "execution_count": null,
   "metadata": {},
   "outputs": [],
   "source": []
  }
 ],
 "metadata": {
  "kernelspec": {
   "display_name": "Python 3",
   "language": "python",
   "name": "python3"
  },
  "language_info": {
   "codemirror_mode": {
    "name": "ipython",
    "version": 3
   },
   "file_extension": ".py",
   "mimetype": "text/x-python",
   "name": "python",
   "nbconvert_exporter": "python",
   "pygments_lexer": "ipython3",
   "version": "3.7.1"
  }
 },
 "nbformat": 4,
 "nbformat_minor": 2
}
