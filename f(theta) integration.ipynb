{
 "cells": [
  {
   "cell_type": "code",
   "execution_count": 20,
   "id": "04631158-ca3c-4ad1-90c9-48c1ffb3db40",
   "metadata": {},
   "outputs": [
    {
     "name": "stdout",
     "output_type": "stream",
     "text": [
      "0.9999999999232697\n",
      "1.0\n"
     ]
    }
   ],
   "source": [
    "from scipy import integrate\n",
    "import numpy as np\n",
    "from math import gamma\n",
    "gamma_u = np.frompyfunc(gamma, 1, 1)\n",
    "\n",
    "N = 50000\n",
    "Rmin = np.pi/6\n",
    "Rmax = np.pi/4\n",
    "k=12\n",
    "Vmin=0.694\n",
    "emacro=0.673\n",
    "V0=np.pi/6.0*(emacro+1.0)\n",
    "Vs=np.pi/6.0\n",
    "x=np.linspace(Rmin,Rmax,N)  # [0,1]を5等分したグリッドをxに格納\n",
    "y=1/(5.5123196049127075e-22)*24.0/np.pi*np.sin(2.0*x)*np.cos(2.0*x)*k**k/gamma_u(k)*((np.sin(2.0*x))**2-Vmin)**(k-1)/(V0-Vmin)**k*np.exp((-k*(np.sin(2.0*x))**2-Vmin)/(V0-Vmin))        # 数値積分の被積分関数\n",
    "\n",
    "y_integrate_trape = integrate.cumtrapz(y, x)  #台形則による数値積分計算\n",
    "y_integrate_simps = integrate.simps(y, x) #シンプソン則による数値積分計算\n",
    "\n",
    "print(y_integrate_trape[-1]) #結果の表示\n",
    "print(y_integrate_simps)     # 結果の表示"
   ]
  },
  {
   "cell_type": "code",
   "execution_count": null,
   "id": "7b1334bf-930f-4e14-b0a8-c429c3b39624",
   "metadata": {},
   "outputs": [],
   "source": []
  }
 ],
 "metadata": {
  "kernelspec": {
   "display_name": "Python 3",
   "language": "python",
   "name": "python3"
  },
  "language_info": {
   "codemirror_mode": {
    "name": "ipython",
    "version": 3
   },
   "file_extension": ".py",
   "mimetype": "text/x-python",
   "name": "python",
   "nbconvert_exporter": "python",
   "pygments_lexer": "ipython3",
   "version": "3.8.8"
  }
 },
 "nbformat": 4,
 "nbformat_minor": 5
}
