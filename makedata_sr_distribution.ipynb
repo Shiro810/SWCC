{
 "cells": [
  {
   "cell_type": "code",
   "execution_count": null,
   "metadata": {},
   "outputs": [],
   "source": [
    "import os\n",
    "import glob\n",
    "import pandas as pd\n",
    "\n",
    "pd.set_option('display.max_columns', None)\n",
    "pd.set_option('display.max_rows', None)"
   ]
  },
  {
   "cell_type": "code",
   "execution_count": 51,
   "metadata": {},
   "outputs": [],
   "source": [
    "path='C:/Users/nobun/Dropbox/研究/00_卒論/Python_code'\n",
    "inputfolderpath=path+'/vtxt'\n",
    "outputfolderpath=path+'/out_vtxt/'\n",
    "#inputfolderpath=path+'/dense_vtxt'\n",
    "#outputfolderpath=path+'/dense_out_vtxt/'\n",
    "os.chdir(inputfolderpath)\n",
    "os.makedirs(outputfolderpath,exist_ok=True)"
   ]
  },
  {
   "cell_type": "code",
   "execution_count": 54,
   "metadata": {},
   "outputs": [
    {
     "name": "stdout",
     "output_type": "stream",
     "text": [
      "['.\\\\cv.txt', '.\\\\dv.txt', '.\\\\ev.txt', '.\\\\gv.txt']\n"
     ]
    }
   ],
   "source": [
    "path_list = glob.glob(\"./*.txt\")\n",
    "print(path_list)"
   ]
  },
  {
   "cell_type": "code",
   "execution_count": null,
   "metadata": {},
   "outputs": [],
   "source": [
    "for j in range(50):\n",
    "    numj=str(j)\n",
    "    v= pd.DataFrame()\n",
    "    for i in range(len(path_list)):\n",
    "        numi=str(i)\n",
    "        file=pd.read_csv(glob.glob(\"./*.txt\")[i], delim_whitespace=True, engine='python',header=None)\n",
    "        \n",
    "        vji=file.iloc[j]\n",
    "        #print(vji)\n",
    "        v = v.append(vji, ignore_index=True)\n",
    "    #print(v)\n",
    "    v=v.astype(int)\n",
    "    outfile=outputfolderpath+'v_dry'+'_'+numj.zfill(2)+'.txt'\n",
    "    v.to_csv(outfile, index=False,  sep='\\t')\n",
    "v.dtypes\n",
    "    "
   ]
  },
  {
   "cell_type": "code",
   "execution_count": null,
   "metadata": {},
   "outputs": [],
   "source": [
    ", ignore_index=True \n",
    "header=None,\n",
    "header=False,"
   ]
  }
 ],
 "metadata": {
  "kernelspec": {
   "display_name": "Python 3",
   "language": "python",
   "name": "python3"
  },
  "language_info": {
   "codemirror_mode": {
    "name": "ipython",
    "version": 3
   },
   "file_extension": ".py",
   "mimetype": "text/x-python",
   "name": "python",
   "nbconvert_exporter": "python",
   "pygments_lexer": "ipython3",
   "version": "3.8.8"
  }
 },
 "nbformat": 4,
 "nbformat_minor": 4
}
