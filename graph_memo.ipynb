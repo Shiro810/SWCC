{
 "cells": [
  {
   "cell_type": "code",
   "execution_count": 1,
   "metadata": {},
   "outputs": [],
   "source": [
    "import os\n",
    "import glob\n",
    "import pandas as pd\n",
    "import matplotlib.pyplot as plt\n",
    "\n",
    "pd.set_option('display.max_columns', None)\n",
    "pd.set_option('display.max_rows', None)"
   ]
  },
  {
   "cell_type": "code",
   "execution_count": 2,
   "metadata": {},
   "outputs": [],
   "source": [
    "path='C:/Users/nobun/Dropbox/研究/00_卒論/Python_code'\n",
    "inputfolderpath=path+'/out_vtxt'\n",
    "outputfolderpath=path+'/graph_v/'\n",
    "os.chdir(inputfolderpath)\n",
    "os.makedirs(outputfolderpath,exist_ok=True)"
   ]
  },
  {
   "cell_type": "code",
   "execution_count": 3,
   "metadata": {},
   "outputs": [
    {
     "name": "stdout",
     "output_type": "stream",
     "text": [
      "['.\\\\v_00.txt', '.\\\\v_01.txt', '.\\\\v_02.txt', '.\\\\v_03.txt', '.\\\\v_04.txt', '.\\\\v_05.txt', '.\\\\v_06.txt', '.\\\\v_07.txt', '.\\\\v_08.txt', '.\\\\v_09.txt', '.\\\\v_10.txt', '.\\\\v_11.txt', '.\\\\v_12.txt', '.\\\\v_13.txt', '.\\\\v_14.txt', '.\\\\v_15.txt', '.\\\\v_16.txt', '.\\\\v_17.txt', '.\\\\v_18.txt', '.\\\\v_19.txt', '.\\\\v_20.txt', '.\\\\v_21.txt', '.\\\\v_22.txt', '.\\\\v_23.txt', '.\\\\v_24.txt', '.\\\\v_25.txt', '.\\\\v_26.txt', '.\\\\v_27.txt', '.\\\\v_28.txt', '.\\\\v_29.txt', '.\\\\v_30.txt', '.\\\\v_31.txt', '.\\\\v_32.txt', '.\\\\v_33.txt', '.\\\\v_34.txt', '.\\\\v_35.txt', '.\\\\v_36.txt', '.\\\\v_37.txt', '.\\\\v_38.txt', '.\\\\v_39.txt', '.\\\\v_40.txt', '.\\\\v_41.txt', '.\\\\v_42.txt', '.\\\\v_43.txt', '.\\\\v_44.txt', '.\\\\v_45.txt', '.\\\\v_46.txt', '.\\\\v_47.txt', '.\\\\v_48.txt', '.\\\\v_49.txt']\n"
     ]
    }
   ],
   "source": [
    "path_list = glob.glob(\"./*.txt\")\n",
    "print(path_list)"
   ]
  },
  {
   "cell_type": "code",
   "execution_count": 5,
   "metadata": {},
   "outputs": [
    {
     "name": "stdout",
     "output_type": "stream",
     "text": [
      "[1, 3, 5, 7, 9, 11, 13, 15, 17, 19, 21, 23, 25, 27, 29, 31, 33, 35, 37, 39, 41, 43, 45, 47, 49, 51, 53, 55, 57, 59, 61, 63, 65, 67, 69, 71, 73, 75, 77, 79, 81, 83, 85, 87, 89, 91, 93, 95, 97, 99]\n"
     ]
    }
   ],
   "source": [
    "x= list(range(1,100,2))\n",
    "print(x)"
   ]
  },
  {
   "cell_type": "code",
   "execution_count": null,
   "metadata": {},
   "outputs": [],
   "source": []
  }
 ],
 "metadata": {
  "kernelspec": {
   "display_name": "Python 3",
   "language": "python",
   "name": "python3"
  },
  "language_info": {
   "codemirror_mode": {
    "name": "ipython",
    "version": 3
   },
   "file_extension": ".py",
   "mimetype": "text/x-python",
   "name": "python",
   "nbconvert_exporter": "python",
   "pygments_lexer": "ipython3",
   "version": "3.7.1"
  }
 },
 "nbformat": 4,
 "nbformat_minor": 2
}
